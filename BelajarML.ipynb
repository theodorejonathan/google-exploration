{
  "nbformat": 4,
  "nbformat_minor": 0,
  "metadata": {
    "colab": {
      "name": "BelajarML.ipynb",
      "provenance": [],
      "collapsed_sections": []
    },
    "kernelspec": {
      "name": "python3",
      "display_name": "Python 3"
    }
  },
  "cells": [
    {
      "cell_type": "code",
      "metadata": {
        "id": "cwOchgsnA5E-",
        "outputId": "a8c286f2-f9c9-455f-ef24-848f265ba6e3",
        "colab": {
          "base_uri": "https://localhost:8080/",
          "height": 34
        }
      },
      "source": [
        "from sklearn.tree import DecisionTreeClassifier\n",
        "import pandas as pd\n",
        "from sklearn.datasets import load_iris\n",
        "iris = pd.read_csv('Iris.csv')\n",
        "\n",
        "iris.drop(\"Id\",axis=1,inplace=True)\n",
        "x = iris[['SepalLengthCm','SepalWidthCm','PetalLengthCm','PetalWidthCm']]\n",
        "y = iris['Species']\n",
        "\n",
        "tree_model = DecisionTreeClassifier()\n",
        "tree_model.fit(x,y)\n",
        "\n",
        "tree_model.predict([[6.2, 3.4, 5.4, 2.3]])"
      ],
      "execution_count": null,
      "outputs": [
        {
          "output_type": "execute_result",
          "data": {
            "text/plain": [
              "array(['Iris-virginica'], dtype=object)"
            ]
          },
          "metadata": {
            "tags": []
          },
          "execution_count": 3
        }
      ]
    },
    {
      "cell_type": "code",
      "metadata": {
        "id": "VJ7dwerEWCsp",
        "outputId": "39c58598-4e6a-405d-ff4c-bc567ec2ceca",
        "colab": {
          "base_uri": "https://localhost:8080/",
          "height": 282
        }
      },
      "source": [
        "import numpy as np\n",
        "import matplotlib.pyplot as plt\n",
        "from sklearn.linear_model import LinearRegression\n",
        "\n",
        "#buat data jumlah kamar\n",
        "bedrooms = np.array([1,1,2,2,3,4,4,5,5,5])\n",
        "#data harga rummah. asumsi dalam dollar\n",
        "house_price = np.array([15000, 18000, 27000, 34000, 50000, 68000, 65000, 81000,85000, 90000])\n",
        "\n",
        "plt.scatter(bedrooms, house_price)\n",
        "\n",
        "bedrooms = bedrooms.reshape(-1,1)\n",
        "linreg = LinearRegression()\n",
        "linreg.fit(bedrooms, house_price)\n",
        "\n",
        "plt.plot(bedrooms, linreg.predict(bedrooms))"
      ],
      "execution_count": null,
      "outputs": [
        {
          "output_type": "execute_result",
          "data": {
            "text/plain": [
              "[<matplotlib.lines.Line2D at 0x7f24c8a10d68>]"
            ]
          },
          "metadata": {
            "tags": []
          },
          "execution_count": 23
        },
        {
          "output_type": "display_data",
          "data": {
            "image/png": "[encoded data removed]",
            "text/plain": [
              "<Figure size 432x288 with 1 Axes>"
            ]
          },
          "metadata": {
            "tags": [],
            "needs_background": "light"
          }
        }
      ]
    },
    {
      "cell_type": "code",
      "metadata": {
        "id": "WXYkmiwtYxvD",
        "outputId": "56333f2c-0058-44ef-80bb-7805ed51ab95",
        "colab": {
          "base_uri": "https://localhost:8080/",
          "height": 34
        }
      },
      "source": [
        "import pandas as pd\n",
        "from sklearn.model_selection import train_test_split\n",
        "from sklearn.preprocessing import StandardScaler\n",
        "from sklearn import linear_model\n",
        "\n",
        "df = pd.read_csv('Social_Network_Ads.csv')\n",
        "data = df.drop(columns='User ID')\n",
        "\n",
        "data = pd.get_dummies(data)\n",
        "data\n",
        "\n",
        "predictions = ['Age', 'EstimatedSalary', 'Gender_Female', 'Gender_Male']\n",
        "x = data[predictions]\n",
        "y = data['Purchased']\n",
        "\n",
        "x_train, x_test, y_train, y_test = train_test_split(x, y, test_size=0.25, random_state=42)\n",
        "\n",
        "model = linear_model.LogisticRegression()\n",
        "model.fit(x_train, y_train)\n",
        "\n",
        "model.score(x_test, y_test)"
      ],
      "execution_count": null,
      "outputs": [
        {
          "output_type": "execute_result",
          "data": {
            "text/plain": [
              "0.63"
            ]
          },
          "metadata": {
            "tags": []
          },
          "execution_count": 25
        }
      ]
    },
    {
      "cell_type": "code",
      "metadata": {
        "id": "DwuG8YWTcqwL",
        "outputId": "7955bb88-15ce-4070-f442-f34f1fd1d0d6",
        "colab": {
          "base_uri": "https://localhost:8080/",
          "height": 142
        }
      },
      "source": [
        "import pandas as pd\n",
        "import matplotlib.pyplot as plt\n",
        "%matplotlib inline\n",
        "import seaborn as sns\n",
        "\n",
        "df = pd.read_csv('Mall_Customers.csv')\n",
        "# ubah nama kolom\n",
        "df = df.rename(columns={'Gender': 'gender', 'Age': 'age',\n",
        "                        'Annual Income (k$)': 'annual_income',\n",
        "                        'Spending Score (1-100)': 'spending_score'})\n",
        "# ubah data kategorik mmenjadi data numerik\n",
        "df['gender'].replace(['Female', 'Male'], [0,1], inplace=True)\n",
        "# tampilkan data yang sudah di preprocess\n",
        "df.head(3)"
      ],
      "execution_count": null,
      "outputs": [
        {
          "output_type": "execute_result",
          "data": {
            "text/html": [
              "<div>\n",
              "<style scoped>\n",
              "    .dataframe tbody tr th:only-of-type {\n",
              "        vertical-align: middle;\n",
              "    }\n",
              "\n",
              "    .dataframe tbody tr th {\n",
              "        vertical-align: top;\n",
              "    }\n",
              "\n",
              "    .dataframe thead th {\n",
              "        text-align: right;\n",
              "    }\n",
              "</style>\n",
              "<table border=\"1\" class=\"dataframe\">\n",
              "  <thead>\n",
              "    <tr style=\"text-align: right;\">\n",
              "      <th></th>\n",
              "      <th>CustomerID</th>\n",
              "      <th>gender</th>\n",
              "      <th>age</th>\n",
              "      <th>annual_income</th>\n",
              "      <th>spending_score</th>\n",
              "    </tr>\n",
              "  </thead>\n",
              "  <tbody>\n",
              "    <tr>\n",
              "      <th>0</th>\n",
              "      <td>1</td>\n",
              "      <td>1</td>\n",
              "      <td>19</td>\n",
              "      <td>15</td>\n",
              "      <td>39</td>\n",
              "    </tr>\n",
              "    <tr>\n",
              "      <th>1</th>\n",
              "      <td>2</td>\n",
              "      <td>1</td>\n",
              "      <td>21</td>\n",
              "      <td>15</td>\n",
              "      <td>81</td>\n",
              "    </tr>\n",
              "    <tr>\n",
              "      <th>2</th>\n",
              "      <td>3</td>\n",
              "      <td>0</td>\n",
              "      <td>20</td>\n",
              "      <td>16</td>\n",
              "      <td>6</td>\n",
              "    </tr>\n",
              "  </tbody>\n",
              "</table>\n",
              "</div>"
            ],
            "text/plain": [
              "   CustomerID  gender  age  annual_income  spending_score\n",
              "0           1       1   19             15              39\n",
              "1           2       1   21             15              81\n",
              "2           3       0   20             16               6"
            ]
          },
          "metadata": {
            "tags": []
          },
          "execution_count": 27
        }
      ]
    },
    {
      "cell_type": "code",
      "metadata": {
        "id": "F4vT77UYdWL5",
        "outputId": "27e17186-ca6a-4158-c0a7-a4b296725270",
        "colab": {
          "base_uri": "https://localhost:8080/",
          "height": 312
        }
      },
      "source": [
        "from sklearn.cluster import KMeans\n",
        "\n",
        "X = df.drop(columns=['gender', 'CustomerID'])\n",
        "\n",
        "#membuat list yang berisi inertia\n",
        "clusters = []\n",
        "for i in range(1,11):\n",
        "  km = KMeans(n_clusters=i).fit(X)\n",
        "  clusters.append(km.inertia_)\n",
        "\n",
        "fig, ax = plt.subplots(figsize=(8, 4))\n",
        "sns.lineplot(x=list(range(1, 11)), y=clusters)\n",
        "ax.set_title('Cari Elbow')\n",
        "ax.set_xlabel('Clusters')\n",
        "ax.set_ylabel('Inertia')"
      ],
      "execution_count": null,
      "outputs": [
        {
          "output_type": "execute_result",
          "data": {
            "text/plain": [
              "Text(0, 0.5, 'Inertia')"
            ]
          },
          "metadata": {
            "tags": []
          },
          "execution_count": 29
        },
        {
          "output_type": "display_data",
          "data": {
            "image/png": "[encoded data removed]",
            "text/plain": [
              "<Figure size 576x288 with 1 Axes>"
            ]
          },
          "metadata": {
            "tags": [],
            "needs_background": "light"
          }
        }
      ]
    },
    {
      "cell_type": "code",
      "metadata": {
        "id": "X1mnZkczeP-9",
        "outputId": "5ff6c500-1e02-47c4-8f5a-4327680299b1",
        "colab": {
          "base_uri": "https://localhost:8080/",
          "height": 296
        }
      },
      "source": [
        "# membuat objek KMeans\n",
        "km5 = KMeans(n_clusters=5).fit(X)\n",
        "# menambahkan kolom label pada dataset\n",
        "X['Labels'] = km5.labels_\n",
        "# membuat plot KMeans dengan 5 klaster\n",
        "plt.figure(figsize=(8,4))\n",
        "sns.scatterplot(X['annual_income'], X['spending_score'], hue=X['Labels'],\n",
        "                palette=sns.color_palette('hls', 5))\n",
        "plt.title('KMeans dengan 5 Cluster')\n",
        "plt.show()"
      ],
      "execution_count": null,
      "outputs": [
        {
          "output_type": "display_data",
          "data": {
            "image/png": "[encoded data removed]",
            "text/plain": [
              "<Figure size 576x288 with 1 Axes>"
            ]
          },
          "metadata": {
            "tags": [],
            "needs_background": "light"
          }
        }
      ]
    },
    {
      "cell_type": "code",
      "metadata": {
        "id": "ZvSAeZHJ290_",
        "outputId": "cd0ccba3-825c-4b53-d389-242ccbfe642c",
        "colab": {
          "base_uri": "https://localhost:8080/",
          "height": 34
        }
      },
      "source": [
        "from sklearn.decomposition import PCA\n",
        "from sklearn.model_selection import train_test_split\n",
        "from sklearn import datasets\n",
        "\n",
        "iris = datasets.load_iris()\n",
        "atribut = iris.data\n",
        "label = iris.target\n",
        "# bagi dataset menjadi train set dan test set\n",
        "X_train, X_test, y_train, y_test = train_test_split(atribut, label, test_size=0.2)\n",
        "\n",
        "from sklearn import tree\n",
        "decision_tree = tree.DecisionTreeClassifier()\n",
        "model_pertama = decision_tree.fit(X_train, y_train)\n",
        "model_pertama.score(X_test, y_test)\n",
        "\n",
        "\n",
        "# membuat objek PCA dengan 4 principal component\n",
        "pca = PCA(n_components=4)\n",
        "# mengaplikasikan PCA pada dataset\n",
        "pca_attributes = pca.fit_transform(X_train)\n",
        "# melihat variance dari setiap atribut\n",
        "pca.explained_variance_ratio_\n",
        "\n",
        "pca = PCA(n_components=2)\n",
        "X_train_pca = pca.fit_transform(X_train)\n",
        "X_test_pca = pca.fit_transform(X_test)\n",
        "\n",
        "model_kedua = decision_tree.fit(X_train_pca, y_train)\n",
        "model_kedua.score(X_test_pca, y_test)"
      ],
      "execution_count": null,
      "outputs": [
        {
          "output_type": "execute_result",
          "data": {
            "text/plain": [
              "1.0"
            ]
          },
          "metadata": {
            "tags": []
          },
          "execution_count": 69
        }
      ]
    },
    {
      "cell_type": "code",
      "metadata": {
        "id": "BS4iGCpf7Mjc",
        "outputId": "de27e1fb-fa5f-46a6-a54c-1d89e0af50d2",
        "colab": {
          "base_uri": "https://localhost:8080/",
          "height": 34
        }
      },
      "source": [
        "import pandas as pd\n",
        "\n",
        "df = pd.read_csv('diabetes.csv')\n",
        "\n",
        "x = df[df.columns[:8]]\n",
        "y = df['Outcome']\n",
        "\n",
        "from sklearn.preprocessing import StandardScaler\n",
        " \n",
        "# standarisasi nilai-nilai dari dataset\n",
        "scaler = StandardScaler()\n",
        "scaler.fit(X)\n",
        "X = scaler.transform(X)\n",
        "\n",
        "x_train, x_test, y_train, y_test = train_test_split(x, y, test_size=0.33)\n",
        "\n",
        "from sklearn.svm import SVC\n",
        "\n",
        "clf = SVC()\n",
        "clf.fit(x_train, y_train)\n",
        "\n",
        "clf.score(x_test, y_test)"
      ],
      "execution_count": null,
      "outputs": [
        {
          "output_type": "execute_result",
          "data": {
            "text/plain": [
              "0.7637795275590551"
            ]
          },
          "metadata": {
            "tags": []
          },
          "execution_count": 78
        }
      ]
    }
  ]
}